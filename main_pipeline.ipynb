{
 "cells": [
  {
   "cell_type": "code",
   "execution_count": 8,
   "metadata": {},
   "outputs": [],
   "source": [
    "import pandas as pd\n",
    "\n",
    "# Load the data\n",
    "df = pd.read_csv(\"TDX_data_UTF8_small.csv\")\n",
    "\n",
    "# Drop the rows with missing descriptions\n",
    "df = df.dropna(subset=[\"Description\"])"
   ]
  },
  {
   "cell_type": "code",
   "execution_count": 9,
   "metadata": {},
   "outputs": [],
   "source": [
    "import sklearn\n",
    "from transformers import BertTokenizer, BertModel\n",
    "import torch"
   ]
  },
  {
   "cell_type": "code",
   "execution_count": 10,
   "metadata": {},
   "outputs": [
    {
     "name": "stdout",
     "output_type": "stream",
     "text": [
      "        ID                                     Title  \\\n",
      "1   114115                    IT Applicant Questions   \n",
      "2   114113                            Display issues   \n",
      "3   114112                  Loaner Laptop Won't Boot   \n",
      "4   114111                       Esports room access   \n",
      "5   114109                      ethernet not working   \n",
      "..     ...                                       ...   \n",
      "60  114029                   Request for DUO Support   \n",
      "61  114028                          Remove RA Access   \n",
      "62  114027        Setting up room with TVs for event   \n",
      "63  114026   Config a mstp priority to core routers.   \n",
      "64  114025  Keep Learning Student Technology Request   \n",
      "\n",
      "                                          Description  \\\n",
      "1   Client came up to me at the desk asking genera...   \n",
      "2   Client visited the desk saying that the displa...   \n",
      "3   Client recently loaned out a laptop, but has b...   \n",
      "4   Client needs access to the e-sports room becau...   \n",
      "5   Ari lost internet connection through his ether...   \n",
      "..                                                ...   \n",
      "60  Client needed to be added to the Regcampus acc...   \n",
      "61  Cordelia Gilbert (705148690)\\nPlease remove Me...   \n",
      "62  The esports club has an event they are doing i...   \n",
      "63  Currently the MSTP priority on the Arista core...   \n",
      "64  My old laptop broke down about a month ago, an...   \n",
      "\n",
      "                                              Service  \\\n",
      "1                                General Help Request   \n",
      "2        Computers, Devices and Hardware Help Request   \n",
      "3        Computers, Devices and Hardware Help Request   \n",
      "4             Door Access - Request Access to an Area   \n",
      "5            Network, Internet and Wi-Fi Help Request   \n",
      "..                                                ...   \n",
      "60                                        DUO Support   \n",
      "61  Residential Life and Student Conduct & Communi...   \n",
      "62       Computers, Devices and Hardware Help Request   \n",
      "63                                     CCB - standard   \n",
      "64           Keep Learning Student Technology Request   \n",
      "\n",
      "                            Service Category  Age         Source  \\\n",
      "1                               Getting Help    0        Walk-in   \n",
      "2            Computers, Devices and Hardware    0        Walk-in   \n",
      "3            Computers, Devices and Hardware    0        Walk-in   \n",
      "4                                   Security    0        Walk-in   \n",
      "5                Network, Internet and Wi-Fi    0          Phone   \n",
      "..                                       ...  ...            ...   \n",
      "60                                  Security    0        Walk-in   \n",
      "61  Administrative and Business Applications    1  Client Portal   \n",
      "62           Computers, Devices and Hardware    1        Walk-in   \n",
      "63                      IT Internal Services    1       Internal   \n",
      "64                       Student IT Services    0  Client Portal   \n",
      "\n",
      "                                              Summary  \n",
      "1   Client came up to me at the desk asking genera...  \n",
      "2    We gave the laptop an update and restarted it...  \n",
      "3    While troubleshooting we noticed that the com...  \n",
      "4   Client needs access to the e-sports room becau...  \n",
      "5         \\n\\nPark school of communications room 365   \n",
      "..                                                ...  \n",
      "60  Client needed to be added to the Regcampus acc...  \n",
      "61  Cordelia Gilbert (705148690)\\nPlease remove Me...  \n",
      "62   We are looking to host an event next Friday i...  \n",
      "63   By setting the priority on the core to a lowe...  \n",
      "64   I'm requesting to use it until the end of the...  \n",
      "\n",
      "[63 rows x 8 columns]\n"
     ]
    }
   ],
   "source": [
    "tokenizer = BertTokenizer.from_pretrained('bert-base-uncased')\n",
    "model = BertModel.from_pretrained('bert-base-uncased')\n",
    "\n",
    "def extractive_summary(description):\n",
    "    # Check if description is not a string or NaN\n",
    "    if not isinstance(description, str):\n",
    "        return None\n",
    "\n",
    "    # Tokenize each sentence\n",
    "    sentences = description.split('.')\n",
    "    embeddings = []\n",
    "    for sent in sentences:\n",
    "        inputs = tokenizer(sent, return_tensors=\"pt\", truncation=True, max_length=128, padding=\"max_length\")\n",
    "        with torch.no_grad():\n",
    "            output = model(**inputs)\n",
    "        embeddings.append(output.last_hidden_state.mean(dim=1).squeeze().numpy())\n",
    "\n",
    "    # Get embedding for the entire description\n",
    "    inputs = tokenizer(description, return_tensors=\"pt\", truncation=True, max_length=512, padding=\"max_length\")\n",
    "    with torch.no_grad():\n",
    "        output = model(**inputs)\n",
    "    desc_embedding = output.last_hidden_state.mean(dim=1).squeeze().numpy()\n",
    "\n",
    "    # Find the most similar sentence\n",
    "    from sklearn.metrics.pairwise import cosine_similarity\n",
    "    similarities = cosine_similarity([desc_embedding], embeddings)\n",
    "    most_similar_idx = similarities.argmax()\n",
    "\n",
    "    return sentences[most_similar_idx]\n",
    "\n",
    "df['Summary'] = df['Description'].apply(extractive_summary)\n",
    "print(df)\n"
   ]
  },
  {
   "cell_type": "code",
   "execution_count": 16,
   "metadata": {},
   "outputs": [],
   "source": [
    "with open('output.txt', 'w') as f:\n",
    "  for i in range(10):\n",
    "    f.write(str(df[\"Summary\"].get(i)))"
   ]
  },
  {
   "cell_type": "code",
   "execution_count": null,
   "metadata": {},
   "outputs": [],
   "source": []
  }
 ],
 "metadata": {
  "kernelspec": {
   "display_name": "ml",
   "language": "python",
   "name": "python3"
  },
  "language_info": {
   "codemirror_mode": {
    "name": "ipython",
    "version": 3
   },
   "file_extension": ".py",
   "mimetype": "text/x-python",
   "name": "python",
   "nbconvert_exporter": "python",
   "pygments_lexer": "ipython3",
   "version": "3.11.5"
  },
  "orig_nbformat": 4
 },
 "nbformat": 4,
 "nbformat_minor": 2
}
